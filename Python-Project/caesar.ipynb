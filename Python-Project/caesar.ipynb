{
 "cells": [
  {
   "cell_type": "code",
   "execution_count": 12,
   "metadata": {},
   "outputs": [
    {
     "name": "stdout",
     "output_type": "stream",
     "text": [
      "jgnnqvko\n"
     ]
    }
   ],
   "source": [
    "import sys\n",
    "\n",
    "\n",
    "def encrypt(message, k):\n",
    "    message = message.lower()\n",
    "    encrypted_text = \"\"\n",
    "    for char in message:\n",
    "        if char.islower():\n",
    "            encrypted_text += chr((ord(char)+ k - 97) % 26 + 97)\n",
    "\n",
    "    return encrypted_text\n",
    "\n",
    "\n",
    "originalMessage = \" hello tim 420 69 \"\n",
    "encryptedMessage = encrypt(originalMessage, 2)\n",
    "print(encryptedMessage)\n",
    "\n"
   ]
  },
  {
   "cell_type": "code",
   "execution_count": 1,
   "metadata": {},
   "outputs": [
    {
     "ename": "NameError",
     "evalue": "name 'encryptedMessage' is not defined",
     "output_type": "error",
     "traceback": [
      "\u001b[0;31m---------------------------------------------------------------------------\u001b[0m",
      "\u001b[0;31mNameError\u001b[0m                                 Traceback (most recent call last)",
      "Cell \u001b[0;32mIn[1], line 12\u001b[0m\n\u001b[1;32m      9\u001b[0m     \u001b[39mreturn\u001b[39;00m decrypted_message \n\u001b[1;32m     11\u001b[0m originalMessage \u001b[39m=\u001b[39m \u001b[39m\"\u001b[39m\u001b[39m hello tim 420 69\u001b[39m\u001b[39m\"\u001b[39m\n\u001b[0;32m---> 12\u001b[0m decrypted_message \u001b[39m=\u001b[39m decrypt(encryptedMessage, \u001b[39m2\u001b[39m)\n\u001b[1;32m     13\u001b[0m \u001b[39mprint\u001b[39m(decrypted_message)\n",
      "\u001b[0;31mNameError\u001b[0m: name 'encryptedMessage' is not defined"
     ]
    }
   ],
   "source": [
    "def decrypt(message, k):\n",
    "    message = message.lower()\n",
    "    decrypted_message = \"\"\n",
    "    for char in message:\n",
    "        if char.islower():\n",
    "            decrypted_message += char((ord(char) - k - 97) % 26 + 97)\n",
    "        else: \n",
    "            decrypted_message += char\n",
    "    return decrypted_message \n",
    "\n",
    "originalMessage = \" hello tim 420 69\"\n",
    "decrypted_message = decrypt(encryptedMessage, 2)\n",
    "print(decrypted_message)\n",
    "\n"
   ]
  }
 ],
 "metadata": {
  "kernelspec": {
   "display_name": "phase1",
   "language": "python",
   "name": "python3"
  },
  "language_info": {
   "codemirror_mode": {
    "name": "ipython",
    "version": 3
   },
   "file_extension": ".py",
   "mimetype": "text/x-python",
   "name": "python",
   "nbconvert_exporter": "python",
   "pygments_lexer": "ipython3",
   "version": "3.9.18"
  },
  "orig_nbformat": 4
 },
 "nbformat": 4,
 "nbformat_minor": 2
}
